{
 "cells": [
  {
   "cell_type": "code",
   "execution_count": 3,
   "metadata": {},
   "outputs": [
    {
     "data": {
      "text/plain": [
       "'\\nprint(df.loc[30])\\nprint(df.loc[158])\\nprint(df.loc[185])\\nprint(df.loc[489])\\nfor val in df[2]:\\n    i = float(val)\\n    if(i!=0):\\n        query2 = \\n    j=j+1\\n'"
      ]
     },
     "execution_count": 3,
     "metadata": {},
     "output_type": "execute_result"
    }
   ],
   "source": [
    "from neo4j import GraphDatabase\n",
    "import pandas as pd\n",
    "\n",
    "driver  = GraphDatabase.driver(uri =\"bolt://localhost:7687\", auth =(\"neo4j\",\"test\"))\n",
    "session = driver.session()\n",
    "query1 = \"Match (x:city),(y:city) where not(x.name = y.name or y.name = x.name) \n",
    "WITH point({longitude:toFloat(x.longitude),latitude:toFloat(x.latitude)}) AS p1, \n",
    "point({longitude:toFloat(y.longitude),latitude:toFloat(y.latitude)}) AS p2, \n",
    "x.name as city1, y.name as city2, toFloat(x.congestion) as c1, toFloat(y.congestion) as c2 \n",
    "WITH toFloat(round(distance(p1,p2))*0.001)  AS Distance, city1 as Source, city2 as Destination, \n",
    "toFloat((c1+c2)/2) as Congestion return Source, Destination, Distance, Congestion\"\n",
    " \n",
    "records = session.run(query1)\n",
    "\n",
    "d=[]\n",
    "\n",
    "#df=pd.DataFrame()\n",
    "for record in records:\n",
    "    d.append(record)\n",
    "df=pd.DataFrame(d)\n",
    "\n",
    "j=0\n",
    "#print(type(df.iloc[45,2]))\n",
    "dic=dict()\n",
    "for val in df[2]:\n",
    "    i = float(val)\n",
    "    if(i!=0 and i<=200):\n",
    "        query2 = \"Match (x:city),(y:city)where x.name=$vname1 and y.name=$vname2 \n",
    "        Create (x)-[r:car{dist:$vname3,congestion:$vname4}]->(y)\"\n",
    "        dic[\"vname1\"] = df.iloc[j,0]\n",
    "        dic[\"vname2\"] = df.iloc[j,1]\n",
    "        dic[\"vname3\"] = df.iloc[j,2]\n",
    "        dic[\"vname4\"] = df.iloc[j,3]\n",
    "        session.run(query2,dic)        \n",
    "    j=j+1\n",
    "\n",
    "#print(\"Done\")\n",
    "'''    \n",
    "query2 = \"Match (x:city),(y:city)where x.name=$vname1 and y.name=$vname2 Create (x)-[r:car{dist:$vname3,congestion:0.65}]->(y)\"\n",
    "dic = {'vname1': 'Berlin',\n",
    "       'vname2': 'Karlsruhe',\n",
    "       'vname3':25}\n",
    "#session.run(query2,dic)\n",
    "print(df.iloc[30,2])\n",
    "'''\n",
    "'''\n",
    "MATCH (p:Person {userId: $userId}) SET p += $updatedProperties\";\n",
    "var statementParameters = new Dictionary<string, object>\n",
    "{\n",
    "    { \"userId\", userId },\n",
    "    { \"updatedProperties\", updatedProperties }\n",
    "};\n",
    "'''\n",
    "'''\n",
    "print(df.loc[30])\n",
    "print(df.loc[158])\n",
    "print(df.loc[185])\n",
    "print(df.loc[489])\n",
    "for val in df[2]:\n",
    "    i = float(val)\n",
    "    if(i!=0):\n",
    "        query2 = \n",
    "    j=j+1\n",
    "'''        \n"
   ]
  },
  {
   "cell_type": "code",
   "execution_count": null,
   "metadata": {},
   "outputs": [],
   "source": []
  },
  {
   "cell_type": "code",
   "execution_count": null,
   "metadata": {},
   "outputs": [],
   "source": [
    "\n"
   ]
  },
  {
   "cell_type": "code",
   "execution_count": null,
   "metadata": {},
   "outputs": [],
   "source": []
  },
  {
   "cell_type": "code",
   "execution_count": null,
   "metadata": {},
   "outputs": [],
   "source": []
  },
  {
   "cell_type": "code",
   "execution_count": null,
   "metadata": {},
   "outputs": [],
   "source": []
  }
 ],
 "metadata": {
  "kernelspec": {
   "display_name": "Python 3",
   "language": "python",
   "name": "python3"
  },
  "language_info": {
   "codemirror_mode": {
    "name": "ipython",
    "version": 3
   },
   "file_extension": ".py",
   "mimetype": "text/x-python",
   "name": "python",
   "nbconvert_exporter": "python",
   "pygments_lexer": "ipython3",
   "version": "3.7.4"
  }
 },
 "nbformat": 4,
 "nbformat_minor": 2
}
