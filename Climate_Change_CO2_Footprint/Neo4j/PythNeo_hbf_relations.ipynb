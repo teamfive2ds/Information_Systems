{
 "cells": [
  {
   "cell_type": "code",
   "execution_count": 1,
   "metadata": {},
   "outputs": [],
   "source": [
    "from neo4j import GraphDatabase\n",
    "import pandas as pd\n",
    "\n",
    "driver  = GraphDatabase.driver(uri =\"bolt://localhost:7687\", auth =(\"neo4j\",\"test\"))\n",
    "session = driver.session()\n",
    "query1 = \"Match (x:hbf),(y:hbf) where not(x.name = y.name or y.name = x.name) \n",
    "WITH point({longitude:toFloat(x.hbf_longitude),latitude:toFloat(x.hbf_latitude)}) AS p1, \n",
    "point({longitude:toFloat(y.hbf_longitude),latitude:toFloat(y.hbf_latitude)}) AS p2, \n",
    "x.name as city1, y.name as city2 WITH toFloat(round(distance(p1,p2))*0.001)  AS Distance, \n",
    "city1 as Source, city2 as Destination \n",
    "RETURN Source, Destination, Distance\"\n",
    " \n",
    "records = session.run(query1)\n",
    "\n",
    "d=[]\n",
    "\n",
    "#df=pd.DataFrame()\n",
    "for record in records:\n",
    "    d.append(record)\n",
    "df=pd.DataFrame(d)\n",
    "\n",
    "j=0\n",
    "#print(type(df.iloc[45,2]))\n",
    "#dic=dict()\n",
    "\n",
    "for val in df[2]:\n",
    "    i = float(val)\n",
    "    if(i!=0):\n",
    "        query2 = \"Match (x:hbf),(y:hbf)where x.name=$vname1 and y.name=$vname2 \n",
    "        Create (x)-[r:train{dist:$vname3}]->(y)\"\n",
    "        dic[\"vname1\"] = df.iloc[j,0]\n",
    "        dic[\"vname2\"] = df.iloc[j,1]\n",
    "        dic[\"vname3\"] = df.iloc[j,2]\n",
    "        #dic[\"vname4\"] = df.iloc[j,3]\n",
    "        session.run(query2,dic)        \n",
    "    j=j+1\n",
    "print(\"Done\")\n"
   ]
  },
  {
   "cell_type": "code",
   "execution_count": null,
   "metadata": {},
   "outputs": [],
   "source": []
  }
 ],
 "metadata": {
  "kernelspec": {
   "display_name": "Python 3",
   "language": "python",
   "name": "python3"
  },
  "language_info": {
   "codemirror_mode": {
    "name": "ipython",
    "version": 3
   },
   "file_extension": ".py",
   "mimetype": "text/x-python",
   "name": "python",
   "nbconvert_exporter": "python",
   "pygments_lexer": "ipython3",
   "version": "3.7.4"
  }
 },
 "nbformat": 4,
 "nbformat_minor": 2
}
