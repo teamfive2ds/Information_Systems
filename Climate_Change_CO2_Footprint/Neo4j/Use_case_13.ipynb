{
 "cells": [
  {
   "cell_type": "code",
   "execution_count": null,
   "metadata": {},
   "outputs": [],
   "source": [
    "from neo4j import GraphDatabase\n",
    "import pandas as pd\n",
    "from pymongo import MongoClient\n",
    "from pandas.io.json import json_normalize\n",
    "import pprint\n",
    "Client = MongoClient('mongodb://127.0.0.1:27017/')\n",
    "db = Client.CO2_emission\n",
    "DE = db.DE\n",
    "\n",
    "driver  = GraphDatabase.driver(uri =\"bolt://localhost:7687\", auth =(\"neo4j\",\"test\"))\n",
    "session = driver.session()\n",
    "\n",
    "query1 = \"MATCH (n:type)-[:is_minor]-(a:city) where n.name='minor' RETURN a.name as city, a.population as population\"\n",
    "\n",
    "records = session.run(query1)\n",
    "\n",
    "d=[]\n",
    "for record in records:\n",
    "    #print(record)\n",
    "    d.append(record)\n",
    "df = pd.DataFrame(d)\n",
    "\n",
    "k=[]\n",
    "\n",
    "#for i in df[0]:\n",
    "city = db.DE.find({},{\"_id\":0,\"City\":1,\"C02_Year_1(ppm)\":1,\"C02_Year_2(ppm)\":1,\"C02_Year_3(ppm)\":1,\"C02_average\":1,\"Population\":1})\n",
    "    for temp in city:\n",
    "        #print(temp[\"City\"])\n",
    "        if temp[\"City\"] == i: \n",
    "            k.append(temp)\n",
    "df_1 = pd.DataFrame(k)\n",
    "df_1.nlargest(20,'Population')"
   ]
  },
  {
   "cell_type": "code",
   "execution_count": 111,
   "metadata": {},
   "outputs": [
    {
     "ename": "SyntaxError",
     "evalue": "invalid syntax (<ipython-input-111-f8d413323c67>, line 8)",
     "output_type": "error",
     "traceback": [
      "\u001b[1;36m  File \u001b[1;32m\"<ipython-input-111-f8d413323c67>\"\u001b[1;36m, line \u001b[1;32m8\u001b[0m\n\u001b[1;33m    city=\u001b[0m\n\u001b[1;37m         ^\u001b[0m\n\u001b[1;31mSyntaxError\u001b[0m\u001b[1;31m:\u001b[0m invalid syntax\n"
     ]
    }
   ],
   "source": [
    "d=[]\n",
    "for record in records:\n",
    "    #print(record)\n",
    "    d.append(record)\n",
    "\n",
    "df = pd.DataFrame(d)\n",
    "for i in df[0]:\n",
    "    city="
   ]
  },
  {
   "cell_type": "code",
   "execution_count": null,
   "metadata": {},
   "outputs": [],
   "source": []
  },
  {
   "cell_type": "code",
   "execution_count": null,
   "metadata": {},
   "outputs": [],
   "source": [
    "\n"
   ]
  },
  {
   "cell_type": "code",
   "execution_count": null,
   "metadata": {},
   "outputs": [],
   "source": []
  }
 ],
 "metadata": {
  "kernelspec": {
   "display_name": "Python 3",
   "language": "python",
   "name": "python3"
  },
  "language_info": {
   "codemirror_mode": {
    "name": "ipython",
    "version": 3
   },
   "file_extension": ".py",
   "mimetype": "text/x-python",
   "name": "python",
   "nbconvert_exporter": "python",
   "pygments_lexer": "ipython3",
   "version": "3.7.4"
  }
 },
 "nbformat": 4,
 "nbformat_minor": 2
}
